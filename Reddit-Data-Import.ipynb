{
 "cells": [
  {
   "cell_type": "markdown",
   "metadata": {},
   "source": [
    "# Data Import and Cleaning\n",
    "## Project 3: Subreddit Classification using NLP\n",
    "### Robbie Davison"
   ]
  },
  {
   "cell_type": "markdown",
   "metadata": {},
   "source": [
    "## Imports"
   ]
  },
  {
   "cell_type": "code",
   "execution_count": 21,
   "metadata": {},
   "outputs": [],
   "source": [
    "import requests\n",
    "import pandas as pd\n",
    "pd.set_option('display.max_columns', None)"
   ]
  },
  {
   "cell_type": "markdown",
   "metadata": {},
   "source": [
    "import requests\n",
    "import pandas as pd\n",
    "import numpy as np\n",
    "\n",
    "from sklearn.model_selection import train_test_split, GridSearchCV, cross_val_score\n",
    "from sklearn.pipeline import Pipeline\n",
    "from sklearn.linear_model import LogisticRegression\n",
    "from sklearn.feature_extraction.text import CountVectorizer, TfidfVectorizer\n",
    "from sklearn.naive_bayes import GaussianNB, MultinomialNB\n",
    "from sklearn.tree import DecisionTreeClassifier\n",
    "\n",
    "from nltk.tokenize import RegexpTokenizer\n",
    "\n",
    "pd.set_option('display.max_columns', None)\n",
    "%config InlineBackend.figure_format = 'retina'"
   ]
  },
  {
   "cell_type": "markdown",
   "metadata": {},
   "source": [
    "## Get the 100 most recent submissions from the /r/world news and /r/news subreddits as practice"
   ]
  },
  {
   "cell_type": "markdown",
   "metadata": {},
   "source": [
    "### Make parameter grid with two different sizes"
   ]
  },
  {
   "cell_type": "code",
   "execution_count": 7,
   "metadata": {},
   "outputs": [],
   "source": [
    "params_onion = {\n",
    "    'subreddit': 'TheOnion',\n",
    "    'size': 1000}\n",
    "\n",
    "params_not_onion = {\n",
    "    'subreddit': 'nottheonion',\n",
    "    'size': 1000}\n",
    "\n",
    "params_us_news = {\n",
    "    'subreddit': 'USNEWS',\n",
    "    'size': 1000} \n",
    "\n",
    "params_world_news = {\n",
    "    'subreddit': 'worldnews',\n",
    "    'size': 1000}\n",
    "\n",
    "params_news = {\n",
    "    'subreddit': 'news',\n",
    "    'size': 1000}\n",
    "\n",
    "params_breitbart = {\n",
    "    'subreddit': 'BreitbartNews',\n",
    "    'size': 1000}"
   ]
  },
  {
   "cell_type": "markdown",
   "metadata": {},
   "source": [
    "params_onion = {\n",
    "    'subreddit': 'TheOnion',\n",
    "    'size': 1000}\n",
    "params_onion_s2 = {\n",
    "    'subreddit': 'TheOnion',\n",
    "    'size': 10_000}\n",
    "\n",
    "params_not_onion = {\n",
    "    'subreddit': 'nottheonion',\n",
    "    'size': 1000}\n",
    "params_not_onion_s2 = {\n",
    "    'subreddit': 'nottheonion',\n",
    "    'size': 10_000}\n",
    "\n",
    "params_us_news = {\n",
    "    'subreddit': 'USNEWS',\n",
    "    'size': 1000} \n",
    "params_us_news_s2 = {\n",
    "    'subreddit': 'USNEWS',\n",
    "    'size': 10_000}\n",
    "\n",
    "params_world_news = {\n",
    "    'subreddit': 'worldnews',\n",
    "    'size': 1000}\n",
    "params_world_news_s2 = {\n",
    "    'subreddit': 'worldnews',\n",
    "    'size': 10_000}\n",
    "\n",
    "params_news = {\n",
    "    'subreddit': 'news',\n",
    "    'size': 1000}\n",
    "params_news_s2 = {\n",
    "    'subreddit': 'news',\n",
    "    'size': 10_000}\n",
    "\n",
    "params_breitbart = {\n",
    "    'subreddit': 'BreitbartNews',\n",
    "    'size': 1000}\n",
    "params_breitbart_s2 = {\n",
    "    'subreddit': 'BreitbartNews',\n",
    "    'size': 10_000}"
   ]
  },
  {
   "cell_type": "markdown",
   "metadata": {},
   "source": [
    "### Make request fetches"
   ]
  },
  {
   "cell_type": "code",
   "execution_count": 8,
   "metadata": {},
   "outputs": [],
   "source": [
    "base_url = 'https://api.pushshift.io/reddit/submission/search/?'"
   ]
  },
  {
   "cell_type": "code",
   "execution_count": 9,
   "metadata": {},
   "outputs": [
    {
     "name": "stdout",
     "output_type": "stream",
     "text": [
      "<Response [200]> <Response [200]> <Response [200]> <Response [200]> <Response [200]> <Response [200]>\n",
      "<Response [200]> <Response [200]> <Response [200]> <Response [200]> <Response [200]> <Response [200]>\n"
     ]
    }
   ],
   "source": [
    "res_onion = requests.get(base_url, params_onion)\n",
    "\n",
    "res_not_onion = requests.get(base_url, params_not_onion)\n",
    "\n",
    "res_us_news = requests.get(base_url, params_us_news)\n",
    "\n",
    "res_world_news = requests.get(base_url, params_world_news)\n",
    "\n",
    "res_news = requests.get(base_url, params_news)\n",
    "\n",
    "res_breitbart = requests.get(base_url, params_breitbart)\n",
    "\n",
    "print(res_onion, res_not_onion, res_us_news, res_world_news, res_news, res_breitbart)"
   ]
  },
  {
   "cell_type": "markdown",
   "metadata": {},
   "source": [
    "res_onion = requests.get(base_url, params_onion)\n",
    "res_onion_s2 = requests.get(base_url, params_onion_s2)\n",
    "\n",
    "res_not_onion = requests.get(base_url, params_not_onion)\n",
    "res_not_onion_s2 = requests.get(base_url, params_not_onion_s2)\n",
    "\n",
    "res_us_news = requests.get(base_url, params_us_news)\n",
    "res_us_news_s2 = requests.get(base_url, params_us_news_s2)\n",
    "\n",
    "res_world_news = requests.get(base_url, params_world_news)\n",
    "res_world_news_s2 = requests.get(base_url, params_world_news_s2)\n",
    "\n",
    "res_news = requests.get(base_url, params_news)\n",
    "res_news_s2 = requests.get(base_url, params_news_s2)\n",
    "\n",
    "res_breitbart = requests.get(base_url, params_breitbart)\n",
    "res_breitbart_s2 = requests.get(base_url, params_breitbart_s2)\n",
    "\n",
    "print(res_onion, res_not_onion, res_us_news, res_world_news, res_news, res_breitbart)\n",
    "print(res_onion_s2, res_not_onion_s2, res_us_news_s2, res_world_news_s2, res_news_s2, res_breitbart_s2)"
   ]
  },
  {
   "cell_type": "markdown",
   "metadata": {},
   "source": [
    "### Store all news titles in dataframes"
   ]
  },
  {
   "cell_type": "code",
   "execution_count": 16,
   "metadata": {},
   "outputs": [],
   "source": [
    "df_onion = pd.DataFrame(res_onion.json()['data'])\n",
    "df_onion['tag'] = 'onion'\n",
    "\n",
    "df_not_onion = pd.DataFrame(res_not_onion.json()['data'])\n",
    "df_not_onion['tag'] = 'not onion'\n",
    "\n",
    "df_us_news = pd.DataFrame(res_us_news.json()['data'])\n",
    "df_us_news['tag'] = 'us news'\n",
    "\n",
    "df_world_news = pd.DataFrame(res_world_news.json()['data'])\n",
    "df_world_news['tag'] = 'world news'\n",
    "\n",
    "df_news = pd.DataFrame(res_news.json()['data'])\n",
    "df_news['tag'] = 'news'\n",
    "\n",
    "df_breitbart = pd.DataFrame(res_breitbart.json()['data'])\n",
    "df_breitbart['tag'] = 'breitbart'"
   ]
  },
  {
   "cell_type": "markdown",
   "metadata": {},
   "source": [
    "df_onion = pd.DataFrame(res_onion.json()['data'])\n",
    "df_onion['tag'] = 'onion'\n",
    "df_onion_s2 = pd.DataFrame(res_onion_s2.json()['data'])\n",
    "df_onion_s2['tag'] = 'onion'\n",
    "\n",
    "df_not_onion = pd.DataFrame(res_not_onion.json()['data'])\n",
    "df_not_onion['tag'] = 'not onion'\n",
    "df_not_onion_s2 = pd.DataFrame(res_not_onion_s2.json()['data'])\n",
    "df_not_onion_s2['tag'] = 'not onion'\n",
    "\n",
    "df_us_news = pd.DataFrame(res_us_news.json()['data'])\n",
    "df_us_news['tag'] = 'us news'\n",
    "df_us_news_s2 = pd.DataFrame(res_us_news_s2.json()['data'])\n",
    "df_us_news_s2['tag'] = 'us news'\n",
    "\n",
    "df_world_news = pd.DataFrame(res_world_news.json()['data'])\n",
    "df_world_news['tag'] = 'world news'\n",
    "df_world_news_s2 = pd.DataFrame(res_world_news_s2.json()['data'])\n",
    "df_world_news_s2['tag'] = 'world news'\n",
    "\n",
    "df_news = pd.DataFrame(res_news.json()['data'])\n",
    "df_news['tag'] = 'news'\n",
    "df_news_s2 = pd.DataFrame(res_news_s2.json()['data'])\n",
    "df_news_s2['tag'] = 'news'\n",
    "\n",
    "df_breitbart = pd.DataFrame(res_breitbart.json()['data'])\n",
    "df_breitbart['tag'] = 'breitbart'\n",
    "df_breitbart_s2 = pd.DataFrame(res_breitbart_s2.json()['data'])\n",
    "df_breitbart_s2['tag'] = 'breitbart'"
   ]
  },
  {
   "cell_type": "markdown",
   "metadata": {},
   "source": [
    "#### Concatenate all dataframes into one master"
   ]
  },
  {
   "cell_type": "code",
   "execution_count": 13,
   "metadata": {},
   "outputs": [],
   "source": [
    "master = pd.concat([df_onion[['title','tag', 'score']], \n",
    "                    df_not_onion[['title','tag', 'score']], \n",
    "                    df_us_news[['title','tag', 'score']],\n",
    "                    df_world_news[['title','tag', 'score']],\n",
    "                    df_news[['title','tag', 'score']],\n",
    "                    df_breitbart[['title','tag', 'score']]])\n",
    "\n",
    "master['y'] = np.where(master['tag'] == 'onion', 1, 0)"
   ]
  },
  {
   "cell_type": "markdown",
   "metadata": {},
   "source": [
    "master = pd.concat([df_onion[['title','tag', 'score']], \n",
    "                    df_not_onion[['title','tag', 'score']], \n",
    "                    df_us_news[['title','tag', 'score']],\n",
    "                    df_world_news[['title','tag', 'score']],\n",
    "                    df_news[['title','tag', 'score']],\n",
    "                    df_breitbart[['title','tag', 'score']]])\n",
    "\n",
    "master_s2 = pd.concat([df_onion_s2[['title','tag', 'score']], \n",
    "                    df_not_onion_s2[['title','tag', 'score']], \n",
    "                    df_us_news_s2[['title','tag', 'score']],\n",
    "                    df_world_news_s2[['title','tag', 'score']],\n",
    "                    df_news_s2[['title','tag', 'score']],\n",
    "                    df_breitbart_s2[['title','tag', 'score']]])\n",
    "\n",
    "master['y'] = np.where(master['tag'] == 'onion', 1, 0)\n",
    "master_s2['y'] = np.where(master_s2['tag'] == 'onion', 1, 0)"
   ]
  },
  {
   "cell_type": "markdown",
   "metadata": {},
   "source": [
    "## Export Master Dataset to the Data Folder"
   ]
  },
  {
   "cell_type": "code",
   "execution_count": 22,
   "metadata": {
    "scrolled": true
   },
   "outputs": [
    {
     "data": {
      "text/plain": [
       "(6000, 4)"
      ]
     },
     "execution_count": 22,
     "metadata": {},
     "output_type": "execute_result"
    }
   ],
   "source": [
    "master.shape"
   ]
  },
  {
   "cell_type": "code",
   "execution_count": 25,
   "metadata": {},
   "outputs": [],
   "source": [
    "master.to_csv('./data/master_1_df.csv', index=False)"
   ]
  }
 ],
 "metadata": {
  "kernelspec": {
   "display_name": "Python 3",
   "language": "python",
   "name": "python3"
  },
  "language_info": {
   "codemirror_mode": {
    "name": "ipython",
    "version": 3
   },
   "file_extension": ".py",
   "mimetype": "text/x-python",
   "name": "python",
   "nbconvert_exporter": "python",
   "pygments_lexer": "ipython3",
   "version": "3.7.4"
  }
 },
 "nbformat": 4,
 "nbformat_minor": 2
}
